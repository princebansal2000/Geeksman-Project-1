{
  "nbformat": 4,
  "nbformat_minor": 0,
  "metadata": {
    "colab": {
      "name": "Notebook3.ipynb",
      "provenance": [],
      "authorship_tag": "ABX9TyPafPtWd/Kf+H7+TY85nguD",
      "include_colab_link": true
    },
    "kernelspec": {
      "name": "python3",
      "display_name": "Python 3"
    }
  },
  "cells": [
    {
      "cell_type": "markdown",
      "metadata": {
        "id": "view-in-github",
        "colab_type": "text"
      },
      "source": [
        "<a href=\"https://colab.research.google.com/github/princebansal2000/Geeksman-project-1/blob/master/Notebook3.ipynb\" target=\"_parent\"><img src=\"https://colab.research.google.com/assets/colab-badge.svg\" alt=\"Open In Colab\"/></a>"
      ]
    },
    {
      "cell_type": "markdown",
      "metadata": {
        "id": "vLVtVTlR6Ux5",
        "colab_type": "text"
      },
      "source": [
        "Importing the required libraries."
      ]
    },
    {
      "cell_type": "code",
      "metadata": {
        "id": "YGToqyWKFMIY",
        "colab_type": "code",
        "colab": {}
      },
      "source": [
        "%reload_ext autoreload\n",
        "%autoreload 2\n",
        "%matplotlib inline\n",
        "from fastai.vision import *\n",
        "from fastai.metrics import error_rate\n",
        "import warnings\n",
        "warnings.filterwarnings(\"ignore\")"
      ],
      "execution_count": null,
      "outputs": []
    },
    {
      "cell_type": "markdown",
      "metadata": {
        "id": "ZTe1T5iI6bPa",
        "colab_type": "text"
      },
      "source": [
        "Mounting the drive to access the export.pkl file."
      ]
    },
    {
      "cell_type": "code",
      "metadata": {
        "id": "5-QFp1A4wa2_",
        "colab_type": "code",
        "colab": {
          "base_uri": "https://localhost:8080/",
          "height": 121
        },
        "outputId": "e92d3790-bb6b-4766-f893-04b46701aac3"
      },
      "source": [
        "from google.colab import drive\n",
        "drive.mount(\"/content/drive\")"
      ],
      "execution_count": null,
      "outputs": [
        {
          "output_type": "stream",
          "text": [
            "Go to this URL in a browser: https://accounts.google.com/o/oauth2/auth?client_id=947318989803-6bn6qk8qdgf4n4g3pfee6491hc0brc4i.apps.googleusercontent.com&redirect_uri=urn%3aietf%3awg%3aoauth%3a2.0%3aoob&scope=email%20https%3a%2f%2fwww.googleapis.com%2fauth%2fdocs.test%20https%3a%2f%2fwww.googleapis.com%2fauth%2fdrive%20https%3a%2f%2fwww.googleapis.com%2fauth%2fdrive.photos.readonly%20https%3a%2f%2fwww.googleapis.com%2fauth%2fpeopleapi.readonly&response_type=code\n",
            "\n",
            "Enter your authorization code:\n",
            "··········\n",
            "Mounted at /content/drive\n"
          ],
          "name": "stdout"
        }
      ]
    },
    {
      "cell_type": "markdown",
      "metadata": {
        "id": "uFv4uZqE6lcl",
        "colab_type": "text"
      },
      "source": [
        "Storing the path of folder in dive"
      ]
    },
    {
      "cell_type": "code",
      "metadata": {
        "id": "0IeaieOwxIov",
        "colab_type": "code",
        "colab": {}
      },
      "source": [
        "my_dir=\"/content/drive/My Drive/medical_equipment\""
      ],
      "execution_count": null,
      "outputs": []
    },
    {
      "cell_type": "markdown",
      "metadata": {
        "id": "TKDfrHD2AxHG",
        "colab_type": "text"
      },
      "source": [
        "Loading the model."
      ]
    },
    {
      "cell_type": "code",
      "metadata": {
        "id": "YoLMab_sxLMx",
        "colab_type": "code",
        "colab": {}
      },
      "source": [
        "predictor = load_learner(my_dir)"
      ],
      "execution_count": null,
      "outputs": []
    },
    {
      "cell_type": "markdown",
      "metadata": {
        "id": "zzqZ7YeMAzgJ",
        "colab_type": "text"
      },
      "source": [
        "Function used to predict the name of equipment."
      ]
    },
    {
      "cell_type": "code",
      "metadata": {
        "id": "kmYaniMn0H7B",
        "colab_type": "code",
        "colab": {}
      },
      "source": [
        "def my_predictor(im):\n",
        "  test_img =open_image(im)\n",
        "  pred_class,pred_idx,outputs=predictor.predict(test_img)\n",
        "  return pred_class"
      ],
      "execution_count": null,
      "outputs": []
    },
    {
      "cell_type": "markdown",
      "metadata": {
        "id": "jV3c9kSaBBlv",
        "colab_type": "text"
      },
      "source": [
        "Making video."
      ]
    },
    {
      "cell_type": "code",
      "metadata": {
        "id": "uOl1zqYz6GDR",
        "colab_type": "code",
        "colab": {}
      },
      "source": [
        "import cv2\n",
        "test_files=os.listdir(my_dir+\"/test_data/test_data\")\n",
        "os.makedirs(\"test_result\",exist_ok=True)\n",
        "i=0\n",
        "for test_file in test_files:\n",
        "  img=cv2.imread(my_dir+\"/test_data/test_data/\"+test_file)\n",
        "  cv2.imwrite(\"temp.jpg\",img)\n",
        "  ans_text=my_predictor(my_dir+\"/test_data/test_data/\"+test_file)\n",
        "  font = cv2.FONT_HERSHEY_SIMPLEX \n",
        "  i+=1\n",
        "  org = (0, 50) \n",
        "  fontScale = 1\n",
        "  color = (255, 0, 0) \n",
        "  thickness = 4\n",
        "  img = cv2.putText(img, str(ans_text), org, font,fontScale, color, thickness, cv2.LINE_AA) \n",
        "  cv2.imwrite(\"test_result/\"+str(i)+\".jpg\", img)"
      ],
      "execution_count": null,
      "outputs": []
    },
    {
      "cell_type": "code",
      "metadata": {
        "id": "EhfaoYss6IOz",
        "colab_type": "code",
        "colab": {
          "base_uri": "https://localhost:8080/",
          "height": 944
        },
        "outputId": "0439e348-174d-4c95-c5d9-53fa3fda088a"
      },
      "source": [
        "%cd \"test_result\"\n",
        "!ffmpeg -framerate 2 -pattern_type glob -i '*.jpg' -s 1920x1080 \\-c:v libx264 -r 1 -pix_fmt yuv420p ../my_final_output.mp4\n",
        "%cd .."
      ],
      "execution_count": null,
      "outputs": [
        {
          "output_type": "stream",
          "text": [
            "/content/test_result\n",
            "ffmpeg version 3.4.8-0ubuntu0.2 Copyright (c) 2000-2020 the FFmpeg developers\n",
            "  built with gcc 7 (Ubuntu 7.5.0-3ubuntu1~18.04)\n",
            "  configuration: --prefix=/usr --extra-version=0ubuntu0.2 --toolchain=hardened --libdir=/usr/lib/x86_64-linux-gnu --incdir=/usr/include/x86_64-linux-gnu --enable-gpl --disable-stripping --enable-avresample --enable-avisynth --enable-gnutls --enable-ladspa --enable-libass --enable-libbluray --enable-libbs2b --enable-libcaca --enable-libcdio --enable-libflite --enable-libfontconfig --enable-libfreetype --enable-libfribidi --enable-libgme --enable-libgsm --enable-libmp3lame --enable-libmysofa --enable-libopenjpeg --enable-libopenmpt --enable-libopus --enable-libpulse --enable-librubberband --enable-librsvg --enable-libshine --enable-libsnappy --enable-libsoxr --enable-libspeex --enable-libssh --enable-libtheora --enable-libtwolame --enable-libvorbis --enable-libvpx --enable-libwavpack --enable-libwebp --enable-libx265 --enable-libxml2 --enable-libxvid --enable-libzmq --enable-libzvbi --enable-omx --enable-openal --enable-opengl --enable-sdl2 --enable-libdc1394 --enable-libdrm --enable-libiec61883 --enable-chromaprint --enable-frei0r --enable-libopencv --enable-libx264 --enable-shared\n",
            "  libavutil      55. 78.100 / 55. 78.100\n",
            "  libavcodec     57.107.100 / 57.107.100\n",
            "  libavformat    57. 83.100 / 57. 83.100\n",
            "  libavdevice    57. 10.100 / 57. 10.100\n",
            "  libavfilter     6.107.100 /  6.107.100\n",
            "  libavresample   3.  7.  0 /  3.  7.  0\n",
            "  libswscale      4.  8.100 /  4.  8.100\n",
            "  libswresample   2.  9.100 /  2.  9.100\n",
            "  libpostproc    54.  7.100 / 54.  7.100\n",
            "Input #0, image2, from '*.jpg':\n",
            "  Duration: 00:00:31.00, start: 0.000000, bitrate: N/A\n",
            "    Stream #0:0: Video: mjpeg, yuvj420p(pc, bt470bg/unknown/unknown), 225x225 [SAR 1:1 DAR 1:1], 2 fps, 2 tbr, 2 tbn, 2 tbc\n",
            "Stream mapping:\n",
            "  Stream #0:0 -> #0:0 (mjpeg (native) -> h264 (libx264))\n",
            "Press [q] to stop, [?] for help\n",
            "\u001b[1;34m[swscaler @ 0x559ad1b1e000] \u001b[0m\u001b[0;33mdeprecated pixel format used, make sure you did set range correctly\n",
            "\u001b[0m\u001b[1;36m[libx264 @ 0x559ad1a3be00] \u001b[0musing SAR=9/16\n",
            "\u001b[1;36m[libx264 @ 0x559ad1a3be00] \u001b[0musing cpu capabilities: MMX2 SSE2Fast SSSE3 SSE4.2 AVX FMA3 BMI2 AVX2\n",
            "\u001b[1;36m[libx264 @ 0x559ad1a3be00] \u001b[0mprofile High, level 4.0\n",
            "\u001b[1;36m[libx264 @ 0x559ad1a3be00] \u001b[0m264 - core 152 r2854 e9a5903 - H.264/MPEG-4 AVC codec - Copyleft 2003-2017 - http://www.videolan.org/x264.html - options: cabac=1 ref=3 deblock=1:0:0 analyse=0x3:0x113 me=hex subme=7 psy=1 psy_rd=1.00:0.00 mixed_ref=1 me_range=16 chroma_me=1 trellis=1 8x8dct=1 cqm=0 deadzone=21,11 fast_pskip=1 chroma_qp_offset=-2 threads=3 lookahead_threads=1 sliced_threads=0 nr=0 decimate=1 interlaced=0 bluray_compat=0 constrained_intra=0 bframes=3 b_pyramid=2 b_adapt=1 b_bias=0 direct=1 weightb=1 open_gop=0 weightp=2 keyint=250 keyint_min=1 scenecut=40 intra_refresh=0 rc_lookahead=40 rc=crf mbtree=1 crf=23.0 qcomp=0.60 qpmin=0 qpmax=69 qpstep=4 ip_ratio=1.40 aq=1:1.00\n",
            "Output #0, mp4, to '../my_final_output.mp4':\n",
            "  Metadata:\n",
            "    encoder         : Lavf57.83.100\n",
            "    Stream #0:0: Video: h264 (libx264) (avc1 / 0x31637661), yuv420p, 1920x1080 [SAR 9:16 DAR 1:1], q=-1--1, 1 fps, 16384 tbn, 1 tbc\n",
            "    Metadata:\n",
            "      encoder         : Lavc57.107.100 libx264\n",
            "    Side data:\n",
            "      cpb: bitrate max/min/avg: 0/0/0 buffer size: 0 vbv_delay: -1\n",
            "\u001b[1;34m[swscaler @ 0x559ad1b1e000] \u001b[0m\u001b[0;33mdeprecated pixel format used, make sure you did set range correctly\n",
            "    Last message repeated 2 times\n",
            "\u001b[1;34m[swscaler @ 0x559ad4de8000] \u001b[0m\u001b[0;33mdeprecated pixel format used, make sure you did set range correctly\n",
            "    Last message repeated 47 times\n",
            "\u001b[1;34m[swscaler @ 0x559ad4de8000] \u001b[0m\u001b[0;33mdeprecated pixel format used, make sure you did set range correctly\n",
            "    Last message repeated 3 times\n",
            "frame=   33 fps=5.5 q=-1.0 Lsize=    2086kB time=00:00:30.00 bitrate= 569.5kbits/s dup=0 drop=29 speed=5.03x    \n",
            "video:2085kB audio:0kB subtitle:0kB other streams:0kB global headers:0kB muxing overhead: 0.049004%\n",
            "\u001b[1;36m[libx264 @ 0x559ad1a3be00] \u001b[0mframe I:5     Avg QP: 8.71  size: 69558\n",
            "\u001b[1;36m[libx264 @ 0x559ad1a3be00] \u001b[0mframe P:28    Avg QP:10.87  size: 63788\n",
            "\u001b[1;36m[libx264 @ 0x559ad1a3be00] \u001b[0mmb I  I16..4: 35.2% 58.9%  5.9%\n",
            "\u001b[1;36m[libx264 @ 0x559ad1a3be00] \u001b[0mmb P  I16..4: 19.4% 47.4%  6.4%  P16..4:  3.1%  1.5%  0.6%  0.0%  0.0%    skip:21.6%\n",
            "\u001b[1;36m[libx264 @ 0x559ad1a3be00] \u001b[0m8x8 transform intra:63.6% inter:85.1%\n",
            "\u001b[1;36m[libx264 @ 0x559ad1a3be00] \u001b[0mcoded y,uvDC,uvAC intra: 45.2% 29.8% 24.7% inter: 11.7% 11.7% 8.0%\n",
            "\u001b[1;36m[libx264 @ 0x559ad1a3be00] \u001b[0mi16 v,h,dc,p: 76% 17%  2%  5%\n",
            "\u001b[1;36m[libx264 @ 0x559ad1a3be00] \u001b[0mi8 v,h,dc,ddl,ddr,vr,hd,vl,hu: 29% 26% 19%  3%  4%  3%  7%  3%  6%\n",
            "\u001b[1;36m[libx264 @ 0x559ad1a3be00] \u001b[0mi4 v,h,dc,ddl,ddr,vr,hd,vl,hu: 31% 35%  8%  3%  7%  4%  6%  2%  3%\n",
            "\u001b[1;36m[libx264 @ 0x559ad1a3be00] \u001b[0mi8c dc,h,v,p: 72% 15%  7%  6%\n",
            "\u001b[1;36m[libx264 @ 0x559ad1a3be00] \u001b[0mWeighted P-Frames: Y:3.6% UV:3.6%\n",
            "\u001b[1;36m[libx264 @ 0x559ad1a3be00] \u001b[0mref P L0: 45.8% 14.2% 27.5% 12.4%  0.1%\n",
            "\u001b[1;36m[libx264 @ 0x559ad1a3be00] \u001b[0mkb/s:517.30\n",
            "/content\n"
          ],
          "name": "stdout"
        }
      ]
    },
    {
      "cell_type": "markdown",
      "metadata": {
        "id": "KQKznaxfBFOa",
        "colab_type": "text"
      },
      "source": [
        "Installing u kora so that video can be played on colab also."
      ]
    },
    {
      "cell_type": "code",
      "metadata": {
        "id": "1ToE3-7B6J9M",
        "colab_type": "code",
        "colab": {
          "base_uri": "https://localhost:8080/",
          "height": 104
        },
        "outputId": "ad9896de-7822-439f-b047-fb4ddc653e56"
      },
      "source": [
        "!pip install -U kora\n",
        "from kora.drive import upload_public"
      ],
      "execution_count": null,
      "outputs": [
        {
          "output_type": "stream",
          "text": [
            "Collecting kora\n",
            "  Downloading https://files.pythonhosted.org/packages/31/f1/f197439bc58bebee55d3e1c95237d5c0f310ac999c6a5dbc30be4234fe03/kora-0.5.6-py3-none-any.whl\n",
            "Installing collected packages: kora\n",
            "Successfully installed kora-0.5.6\n"
          ],
          "name": "stdout"
        }
      ]
    },
    {
      "cell_type": "code",
      "metadata": {
        "id": "qfrwp-3H6MYZ",
        "colab_type": "code",
        "colab": {}
      },
      "source": [
        "url = upload_public('my_final_output.mp4')"
      ],
      "execution_count": null,
      "outputs": []
    },
    {
      "cell_type": "code",
      "metadata": {
        "id": "MjGpCux36Ob0",
        "colab_type": "code",
        "colab": {
          "base_uri": "https://localhost:8080/",
          "height": 521
        },
        "outputId": "572cd2fe-0f28-40f0-d5c6-90c982a82a11"
      },
      "source": [
        "\n",
        "from IPython.display import HTML\n",
        "HTML(f\"\"\"<video src={url} width=500 controls/>\"\"\")"
      ],
      "execution_count": null,
      "outputs": [
        {
          "output_type": "execute_result",
          "data": {
            "text/html": [
              "<video src=https://drive.google.com/uc?id=1Zasmzvj59Gc6Rs5Q0iQ-DQ-HFYiHgrjF width=500 controls/>"
            ],
            "text/plain": [
              "<IPython.core.display.HTML object>"
            ]
          },
          "metadata": {
            "tags": []
          },
          "execution_count": 13
        }
      ]
    },
    {
      "cell_type": "code",
      "metadata": {
        "id": "Gdu5txGd6Qdl",
        "colab_type": "code",
        "colab": {
          "base_uri": "https://localhost:8080/",
          "height": 35
        },
        "outputId": "9bd7f081-e4c5-4ddc-c232-6a2232cb1a27"
      },
      "source": [
        "url"
      ],
      "execution_count": null,
      "outputs": [
        {
          "output_type": "execute_result",
          "data": {
            "application/vnd.google.colaboratory.intrinsic+json": {
              "type": "string"
            },
            "text/plain": [
              "'https://drive.google.com/uc?id=1Zasmzvj59Gc6Rs5Q0iQ-DQ-HFYiHgrjF'"
            ]
          },
          "metadata": {
            "tags": []
          },
          "execution_count": 14
        }
      ]
    }
  ]
}